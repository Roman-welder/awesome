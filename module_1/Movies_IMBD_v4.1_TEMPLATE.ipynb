{
 "cells": [
  {
   "cell_type": "code",
   "execution_count": 2,
   "metadata": {
    "_cell_guid": "b1076dfc-b9ad-4769-8c92-a6c4dae69d19",
    "_uuid": "8f2839f25d086af736a60e9eeb907d3b93b6e0e5",
    "colab": {},
    "colab_type": "code",
    "id": "U2D2gTdJVp90"
   },
   "outputs": [],
   "source": [
    "import numpy as np\n",
    "import pandas as pd\n",
    "import seaborn as sns\n",
    "import matplotlib.pyplot as plt\n",
    "import re\n",
    "from collections import Counter"
   ]
  },
  {
   "cell_type": "code",
   "execution_count": 7,
   "metadata": {
    "_cell_guid": "79c7e3d0-c299-4dcb-8224-4455121ee9b0",
    "_uuid": "d629ff2d2480ee46fbb7e2d37f6b5fab8052498a",
    "colab": {},
    "colab_type": "code",
    "id": "oyGfxL3eVp9-"
   },
   "outputs": [
    {
     "data": {
      "text/html": [
       "<div>\n",
       "<style scoped>\n",
       "    .dataframe tbody tr th:only-of-type {\n",
       "        vertical-align: middle;\n",
       "    }\n",
       "\n",
       "    .dataframe tbody tr th {\n",
       "        vertical-align: top;\n",
       "    }\n",
       "\n",
       "    .dataframe thead th {\n",
       "        text-align: right;\n",
       "    }\n",
       "</style>\n",
       "<table border=\"1\" class=\"dataframe\">\n",
       "  <thead>\n",
       "    <tr style=\"text-align: right;\">\n",
       "      <th></th>\n",
       "      <th>imdb_id</th>\n",
       "      <th>budget</th>\n",
       "      <th>revenue</th>\n",
       "      <th>original_title</th>\n",
       "      <th>cast</th>\n",
       "      <th>director</th>\n",
       "      <th>tagline</th>\n",
       "      <th>overview</th>\n",
       "      <th>runtime</th>\n",
       "      <th>genres</th>\n",
       "      <th>production_companies</th>\n",
       "      <th>release_date</th>\n",
       "      <th>vote_average</th>\n",
       "      <th>release_year</th>\n",
       "    </tr>\n",
       "  </thead>\n",
       "  <tbody>\n",
       "    <tr>\n",
       "      <th>52</th>\n",
       "      <td>tt0810819</td>\n",
       "      <td>15000000</td>\n",
       "      <td>64191523</td>\n",
       "      <td>The Danish Girl</td>\n",
       "      <td>Eddie Redmayne|Alicia Vikander|Matthias Schoen...</td>\n",
       "      <td>Tom Hooper</td>\n",
       "      <td>Find the courage to be yourself.</td>\n",
       "      <td>When Gerda Wegener asks her husband Einar to f...</td>\n",
       "      <td>120</td>\n",
       "      <td>Drama</td>\n",
       "      <td>Pretty Pictures|Working Title Films|ArtÃ©mis P...</td>\n",
       "      <td>11/27/2015</td>\n",
       "      <td>7.3</td>\n",
       "      <td>2015</td>\n",
       "    </tr>\n",
       "    <tr>\n",
       "      <th>657</th>\n",
       "      <td>tt0364970</td>\n",
       "      <td>70000000</td>\n",
       "      <td>72108608</td>\n",
       "      <td>Babylon A.D.</td>\n",
       "      <td>Vin Diesel|Michelle Yeoh|MÃ©lanie Thierry|Lamb...</td>\n",
       "      <td>Mathieu Kassovitz</td>\n",
       "      <td>Kill or be Killed.</td>\n",
       "      <td>In Babylon A.D Vin Diesel stars as a veteran-t...</td>\n",
       "      <td>101</td>\n",
       "      <td>Action|Adventure|Science Fiction|Thriller</td>\n",
       "      <td>StudioCanal|M6 Films|Canal+|CinÃ©CinÃ©ma|Babylon</td>\n",
       "      <td>8/20/2008</td>\n",
       "      <td>5.4</td>\n",
       "      <td>2008</td>\n",
       "    </tr>\n",
       "    <tr>\n",
       "      <th>32</th>\n",
       "      <td>tt3682448</td>\n",
       "      <td>40000000</td>\n",
       "      <td>162610473</td>\n",
       "      <td>Bridge of Spies</td>\n",
       "      <td>Tom Hanks|Mark Rylance|Amy Ryan|Alan Alda|Seba...</td>\n",
       "      <td>Steven Spielberg</td>\n",
       "      <td>In the shadow of war, one man showed the world...</td>\n",
       "      <td>During the Cold War, the Soviet Union captures...</td>\n",
       "      <td>141</td>\n",
       "      <td>Thriller|Drama</td>\n",
       "      <td>DreamWorks SKG|Amblin Entertainment|Studio Bab...</td>\n",
       "      <td>10/15/2015</td>\n",
       "      <td>7.1</td>\n",
       "      <td>2015</td>\n",
       "    </tr>\n",
       "    <tr>\n",
       "      <th>1019</th>\n",
       "      <td>tt1646987</td>\n",
       "      <td>150000000</td>\n",
       "      <td>301000000</td>\n",
       "      <td>Wrath of the Titans</td>\n",
       "      <td>Sam Worthington|Liam Neeson|Ralph Fiennes|Rosa...</td>\n",
       "      <td>Jonathan Liebesman</td>\n",
       "      <td>Feel the Wrath</td>\n",
       "      <td>A decade after his heroic defeat of the monstr...</td>\n",
       "      <td>99</td>\n",
       "      <td>Adventure</td>\n",
       "      <td>Legendary Pictures|Thunder Road Pictures|Warne...</td>\n",
       "      <td>3/27/2012</td>\n",
       "      <td>5.5</td>\n",
       "      <td>2012</td>\n",
       "    </tr>\n",
       "    <tr>\n",
       "      <th>1557</th>\n",
       "      <td>tt0433442</td>\n",
       "      <td>15000000</td>\n",
       "      <td>11992014</td>\n",
       "      <td>The Return</td>\n",
       "      <td>Adam Scott|Kate Beahan|Sarah Michelle Gellar|P...</td>\n",
       "      <td>Asif Kapadia</td>\n",
       "      <td>The past never dies. It kills.</td>\n",
       "      <td>Joanna Mills has a successful career but feels...</td>\n",
       "      <td>85</td>\n",
       "      <td>Drama|Thriller</td>\n",
       "      <td>Rogue Pictures|Intrepid Pictures|Biscayne Pict...</td>\n",
       "      <td>11/10/2006</td>\n",
       "      <td>5.2</td>\n",
       "      <td>2006</td>\n",
       "    </tr>\n",
       "    <tr>\n",
       "      <th>480</th>\n",
       "      <td>tt1213012</td>\n",
       "      <td>20000000</td>\n",
       "      <td>39300000</td>\n",
       "      <td>Alpha and Omega</td>\n",
       "      <td>Hayden Panettiere|Justin Long|Dennis Hopper|Ch...</td>\n",
       "      <td>Anthony Bell|Ben Gluck</td>\n",
       "      <td>A Pawsome 3D Adventure</td>\n",
       "      <td>Two mismatched wolves embark on a cross-countr...</td>\n",
       "      <td>88</td>\n",
       "      <td>Family|Animation</td>\n",
       "      <td>Lions Gate Family Entertainment|Relativity Med...</td>\n",
       "      <td>9/17/2010</td>\n",
       "      <td>5.5</td>\n",
       "      <td>2010</td>\n",
       "    </tr>\n",
       "    <tr>\n",
       "      <th>593</th>\n",
       "      <td>tt0246544</td>\n",
       "      <td>40000000</td>\n",
       "      <td>27053815</td>\n",
       "      <td>The Musketeer</td>\n",
       "      <td>Catherine Deneuve|Mena Suvari|Stephen Rea|Tim ...</td>\n",
       "      <td>Peter Hyams</td>\n",
       "      <td>As you've never seen it before.</td>\n",
       "      <td>In Peter Hyams's adaptation of the famous Alex...</td>\n",
       "      <td>104</td>\n",
       "      <td>Action|Adventure|Drama</td>\n",
       "      <td>Crystal Sky Worldwide|MDP Worldwide|ApolloMedi...</td>\n",
       "      <td>9/7/2001</td>\n",
       "      <td>5.1</td>\n",
       "      <td>2001</td>\n",
       "    </tr>\n",
       "    <tr>\n",
       "      <th>983</th>\n",
       "      <td>tt0454876</td>\n",
       "      <td>120000000</td>\n",
       "      <td>609016565</td>\n",
       "      <td>Life of Pi</td>\n",
       "      <td>Suraj Sharma|Irrfan Khan|Ayush Tandon|Gautam B...</td>\n",
       "      <td>Ang Lee</td>\n",
       "      <td>Believe The Unbelievable</td>\n",
       "      <td>The story of an Indian boy named Pi, a zookeep...</td>\n",
       "      <td>127</td>\n",
       "      <td>Adventure|Drama|Action</td>\n",
       "      <td>Ingenious Film Partners|Ingenious Media|Dune E...</td>\n",
       "      <td>11/20/2012</td>\n",
       "      <td>7.1</td>\n",
       "      <td>2012</td>\n",
       "    </tr>\n",
       "    <tr>\n",
       "      <th>727</th>\n",
       "      <td>tt1502404</td>\n",
       "      <td>50000000</td>\n",
       "      <td>28931401</td>\n",
       "      <td>Drive Angry</td>\n",
       "      <td>Nicolas Cage|Amber Heard|William Fichtner|Bill...</td>\n",
       "      <td>Patrick Lussier</td>\n",
       "      <td>One hell of a ride.</td>\n",
       "      <td>Milton is a hardened felon who has broken out ...</td>\n",
       "      <td>105</td>\n",
       "      <td>Fantasy|Thriller|Action|Crime</td>\n",
       "      <td>Summit Entertainment|Saturn Films|Nu Image Fil...</td>\n",
       "      <td>2/24/2011</td>\n",
       "      <td>5.3</td>\n",
       "      <td>2011</td>\n",
       "    </tr>\n",
       "    <tr>\n",
       "      <th>877</th>\n",
       "      <td>tt0133240</td>\n",
       "      <td>140000000</td>\n",
       "      <td>109578115</td>\n",
       "      <td>Treasure Planet</td>\n",
       "      <td>Joseph Gordon-Levitt|David Hyde Pierce|Emma Th...</td>\n",
       "      <td>Ron Clements|John Musker</td>\n",
       "      <td>Find your place in the universe.</td>\n",
       "      <td>When space galleon cabin boy Jim Hawkins disco...</td>\n",
       "      <td>95</td>\n",
       "      <td>Adventure|Animation|Family|Fantasy|Science Fic...</td>\n",
       "      <td>Walt Disney Pictures|Walt Disney Feature Anima...</td>\n",
       "      <td>11/26/2002</td>\n",
       "      <td>7.0</td>\n",
       "      <td>2002</td>\n",
       "    </tr>\n",
       "  </tbody>\n",
       "</table>\n",
       "</div>"
      ],
      "text/plain": [
       "        imdb_id     budget    revenue       original_title  \\\n",
       "52    tt0810819   15000000   64191523      The Danish Girl   \n",
       "657   tt0364970   70000000   72108608         Babylon A.D.   \n",
       "32    tt3682448   40000000  162610473      Bridge of Spies   \n",
       "1019  tt1646987  150000000  301000000  Wrath of the Titans   \n",
       "1557  tt0433442   15000000   11992014           The Return   \n",
       "480   tt1213012   20000000   39300000      Alpha and Omega   \n",
       "593   tt0246544   40000000   27053815        The Musketeer   \n",
       "983   tt0454876  120000000  609016565           Life of Pi   \n",
       "727   tt1502404   50000000   28931401          Drive Angry   \n",
       "877   tt0133240  140000000  109578115      Treasure Planet   \n",
       "\n",
       "                                                   cast  \\\n",
       "52    Eddie Redmayne|Alicia Vikander|Matthias Schoen...   \n",
       "657   Vin Diesel|Michelle Yeoh|MÃ©lanie Thierry|Lamb...   \n",
       "32    Tom Hanks|Mark Rylance|Amy Ryan|Alan Alda|Seba...   \n",
       "1019  Sam Worthington|Liam Neeson|Ralph Fiennes|Rosa...   \n",
       "1557  Adam Scott|Kate Beahan|Sarah Michelle Gellar|P...   \n",
       "480   Hayden Panettiere|Justin Long|Dennis Hopper|Ch...   \n",
       "593   Catherine Deneuve|Mena Suvari|Stephen Rea|Tim ...   \n",
       "983   Suraj Sharma|Irrfan Khan|Ayush Tandon|Gautam B...   \n",
       "727   Nicolas Cage|Amber Heard|William Fichtner|Bill...   \n",
       "877   Joseph Gordon-Levitt|David Hyde Pierce|Emma Th...   \n",
       "\n",
       "                      director  \\\n",
       "52                  Tom Hooper   \n",
       "657          Mathieu Kassovitz   \n",
       "32            Steven Spielberg   \n",
       "1019        Jonathan Liebesman   \n",
       "1557              Asif Kapadia   \n",
       "480     Anthony Bell|Ben Gluck   \n",
       "593                Peter Hyams   \n",
       "983                    Ang Lee   \n",
       "727            Patrick Lussier   \n",
       "877   Ron Clements|John Musker   \n",
       "\n",
       "                                                tagline  \\\n",
       "52                     Find the courage to be yourself.   \n",
       "657                                  Kill or be Killed.   \n",
       "32    In the shadow of war, one man showed the world...   \n",
       "1019                                     Feel the Wrath   \n",
       "1557                     The past never dies. It kills.   \n",
       "480                              A Pawsome 3D Adventure   \n",
       "593                     As you've never seen it before.   \n",
       "983                            Believe The Unbelievable   \n",
       "727                                 One hell of a ride.   \n",
       "877                    Find your place in the universe.   \n",
       "\n",
       "                                               overview  runtime  \\\n",
       "52    When Gerda Wegener asks her husband Einar to f...      120   \n",
       "657   In Babylon A.D Vin Diesel stars as a veteran-t...      101   \n",
       "32    During the Cold War, the Soviet Union captures...      141   \n",
       "1019  A decade after his heroic defeat of the monstr...       99   \n",
       "1557  Joanna Mills has a successful career but feels...       85   \n",
       "480   Two mismatched wolves embark on a cross-countr...       88   \n",
       "593   In Peter Hyams's adaptation of the famous Alex...      104   \n",
       "983   The story of an Indian boy named Pi, a zookeep...      127   \n",
       "727   Milton is a hardened felon who has broken out ...      105   \n",
       "877   When space galleon cabin boy Jim Hawkins disco...       95   \n",
       "\n",
       "                                                 genres  \\\n",
       "52                                                Drama   \n",
       "657           Action|Adventure|Science Fiction|Thriller   \n",
       "32                                       Thriller|Drama   \n",
       "1019                                          Adventure   \n",
       "1557                                     Drama|Thriller   \n",
       "480                                    Family|Animation   \n",
       "593                              Action|Adventure|Drama   \n",
       "983                              Adventure|Drama|Action   \n",
       "727                       Fantasy|Thriller|Action|Crime   \n",
       "877   Adventure|Animation|Family|Fantasy|Science Fic...   \n",
       "\n",
       "                                   production_companies release_date  \\\n",
       "52    Pretty Pictures|Working Title Films|ArtÃ©mis P...   11/27/2015   \n",
       "657    StudioCanal|M6 Films|Canal+|CinÃ©CinÃ©ma|Babylon    8/20/2008   \n",
       "32    DreamWorks SKG|Amblin Entertainment|Studio Bab...   10/15/2015   \n",
       "1019  Legendary Pictures|Thunder Road Pictures|Warne...    3/27/2012   \n",
       "1557  Rogue Pictures|Intrepid Pictures|Biscayne Pict...   11/10/2006   \n",
       "480   Lions Gate Family Entertainment|Relativity Med...    9/17/2010   \n",
       "593   Crystal Sky Worldwide|MDP Worldwide|ApolloMedi...     9/7/2001   \n",
       "983   Ingenious Film Partners|Ingenious Media|Dune E...   11/20/2012   \n",
       "727   Summit Entertainment|Saturn Films|Nu Image Fil...    2/24/2011   \n",
       "877   Walt Disney Pictures|Walt Disney Feature Anima...   11/26/2002   \n",
       "\n",
       "      vote_average  release_year  \n",
       "52             7.3          2015  \n",
       "657            5.4          2008  \n",
       "32             7.1          2015  \n",
       "1019           5.5          2012  \n",
       "1557           5.2          2006  \n",
       "480            5.5          2010  \n",
       "593            5.1          2001  \n",
       "983            7.1          2012  \n",
       "727            5.3          2011  \n",
       "877            7.0          2002  "
      ]
     },
     "execution_count": 7,
     "metadata": {},
     "output_type": "execute_result"
    }
   ],
   "source": [
    "data = pd.read_csv('movie_bd_v5.xls')\n",
    "data.sample(10)"
   ]
  },
  {
   "cell_type": "code",
   "execution_count": 6,
   "metadata": {
    "colab": {},
    "colab_type": "code",
    "id": "CoYUnagMVp-C"
   },
   "outputs": [
    {
     "data": {
      "text/html": [
       "<div>\n",
       "<style scoped>\n",
       "    .dataframe tbody tr th:only-of-type {\n",
       "        vertical-align: middle;\n",
       "    }\n",
       "\n",
       "    .dataframe tbody tr th {\n",
       "        vertical-align: top;\n",
       "    }\n",
       "\n",
       "    .dataframe thead th {\n",
       "        text-align: right;\n",
       "    }\n",
       "</style>\n",
       "<table border=\"1\" class=\"dataframe\">\n",
       "  <thead>\n",
       "    <tr style=\"text-align: right;\">\n",
       "      <th></th>\n",
       "      <th>budget</th>\n",
       "      <th>revenue</th>\n",
       "      <th>runtime</th>\n",
       "      <th>vote_average</th>\n",
       "      <th>release_year</th>\n",
       "    </tr>\n",
       "  </thead>\n",
       "  <tbody>\n",
       "    <tr>\n",
       "      <th>count</th>\n",
       "      <td>1.889000e+03</td>\n",
       "      <td>1.889000e+03</td>\n",
       "      <td>1889.000000</td>\n",
       "      <td>1889.000000</td>\n",
       "      <td>1889.000000</td>\n",
       "    </tr>\n",
       "    <tr>\n",
       "      <th>mean</th>\n",
       "      <td>5.431083e+07</td>\n",
       "      <td>1.553653e+08</td>\n",
       "      <td>109.658549</td>\n",
       "      <td>6.140762</td>\n",
       "      <td>2007.860773</td>\n",
       "    </tr>\n",
       "    <tr>\n",
       "      <th>std</th>\n",
       "      <td>4.858721e+07</td>\n",
       "      <td>2.146698e+08</td>\n",
       "      <td>18.017041</td>\n",
       "      <td>0.764763</td>\n",
       "      <td>4.468841</td>\n",
       "    </tr>\n",
       "    <tr>\n",
       "      <th>min</th>\n",
       "      <td>5.000000e+06</td>\n",
       "      <td>2.033165e+06</td>\n",
       "      <td>63.000000</td>\n",
       "      <td>3.300000</td>\n",
       "      <td>2000.000000</td>\n",
       "    </tr>\n",
       "    <tr>\n",
       "      <th>25%</th>\n",
       "      <td>2.000000e+07</td>\n",
       "      <td>3.456058e+07</td>\n",
       "      <td>97.000000</td>\n",
       "      <td>5.600000</td>\n",
       "      <td>2004.000000</td>\n",
       "    </tr>\n",
       "    <tr>\n",
       "      <th>50%</th>\n",
       "      <td>3.800000e+07</td>\n",
       "      <td>8.361541e+07</td>\n",
       "      <td>107.000000</td>\n",
       "      <td>6.100000</td>\n",
       "      <td>2008.000000</td>\n",
       "    </tr>\n",
       "    <tr>\n",
       "      <th>75%</th>\n",
       "      <td>7.200000e+07</td>\n",
       "      <td>1.782626e+08</td>\n",
       "      <td>120.000000</td>\n",
       "      <td>6.600000</td>\n",
       "      <td>2012.000000</td>\n",
       "    </tr>\n",
       "    <tr>\n",
       "      <th>max</th>\n",
       "      <td>3.800000e+08</td>\n",
       "      <td>2.781506e+09</td>\n",
       "      <td>214.000000</td>\n",
       "      <td>8.100000</td>\n",
       "      <td>2015.000000</td>\n",
       "    </tr>\n",
       "  </tbody>\n",
       "</table>\n",
       "</div>"
      ],
      "text/plain": [
       "             budget       revenue      runtime  vote_average  release_year\n",
       "count  1.889000e+03  1.889000e+03  1889.000000   1889.000000   1889.000000\n",
       "mean   5.431083e+07  1.553653e+08   109.658549      6.140762   2007.860773\n",
       "std    4.858721e+07  2.146698e+08    18.017041      0.764763      4.468841\n",
       "min    5.000000e+06  2.033165e+06    63.000000      3.300000   2000.000000\n",
       "25%    2.000000e+07  3.456058e+07    97.000000      5.600000   2004.000000\n",
       "50%    3.800000e+07  8.361541e+07   107.000000      6.100000   2008.000000\n",
       "75%    7.200000e+07  1.782626e+08   120.000000      6.600000   2012.000000\n",
       "max    3.800000e+08  2.781506e+09   214.000000      8.100000   2015.000000"
      ]
     },
     "execution_count": 6,
     "metadata": {},
     "output_type": "execute_result"
    }
   ],
   "source": [
    "data.describe()"
   ]
  },
  {
   "cell_type": "code",
   "execution_count": 35,
   "metadata": {},
   "outputs": [
    {
     "name": "stdout",
     "output_type": "stream",
     "text": [
      "<class 'pandas.core.frame.DataFrame'>\n",
      "RangeIndex: 1889 entries, 0 to 1888\n",
      "Data columns (total 14 columns):\n",
      " #   Column                Non-Null Count  Dtype  \n",
      "---  ------                --------------  -----  \n",
      " 0   imdb_id               1889 non-null   object \n",
      " 1   budget                1889 non-null   int64  \n",
      " 2   revenue               1889 non-null   int64  \n",
      " 3   original_title        1889 non-null   object \n",
      " 4   cast                  1889 non-null   object \n",
      " 5   director              1889 non-null   object \n",
      " 6   tagline               1889 non-null   object \n",
      " 7   overview              1889 non-null   object \n",
      " 8   runtime               1889 non-null   int64  \n",
      " 9   genres                1889 non-null   object \n",
      " 10  production_companies  1889 non-null   object \n",
      " 11  release_date          1889 non-null   object \n",
      " 12  vote_average          1889 non-null   float64\n",
      " 13  release_year          1889 non-null   int64  \n",
      "dtypes: float64(1), int64(4), object(9)\n",
      "memory usage: 206.7+ KB\n"
     ]
    }
   ],
   "source": [
    "data.info()"
   ]
  },
  {
   "cell_type": "markdown",
   "metadata": {
    "colab_type": "text",
    "id": "DTIt7ezGVp-G"
   },
   "source": [
    "# Предобработка"
   ]
  },
  {
   "cell_type": "code",
   "execution_count": 21,
   "metadata": {
    "colab": {},
    "colab_type": "code",
    "id": "jNb40DwKVp-H"
   },
   "outputs": [],
   "source": [
    "answers = {} # создадим словарь для ответов\n",
    "# тут другие ваши предобработки колонок например:\n",
    "\n",
    "#the time given in the dataset is in string format.\n",
    "#So we need to change this in datetime format\n",
    "# ..."
   ]
  },
  {
   "cell_type": "markdown",
   "metadata": {
    "colab_type": "text",
    "id": "YxZaH-nPVp-L"
   },
   "source": [
    "# 1. У какого фильма из списка самый большой бюджет?"
   ]
  },
  {
   "cell_type": "markdown",
   "metadata": {
    "colab_type": "text",
    "id": "Nd-G5gX6Vp-M"
   },
   "source": [
    "Использовать варианты ответов в коде решения запрещено.    \n",
    "Вы думаете и в жизни у вас будут варианты ответов?)"
   ]
  },
  {
   "cell_type": "code",
   "execution_count": 0,
   "metadata": {
    "colab": {},
    "colab_type": "code",
    "id": "uVnXAY5RVp-O"
   },
   "outputs": [],
   "source": [
    "# в словарь вставляем номер вопроса и ваш ответ на него\n",
    "# Пример: \n",
    "answers['1'] = '2. Spider-Man 3 (tt0413300)'\n",
    "# запишите свой вариант ответа\n",
    "answers['1'] = '...'\n",
    "# если ответили верно, можете добавить комментарий со значком \"+\""
   ]
  },
  {
   "cell_type": "code",
   "execution_count": 93,
   "metadata": {
    "colab": {},
    "colab_type": "code",
    "id": "dZwb3m28Vp-S"
   },
   "outputs": [],
   "source": [
    "# тут пишем ваш код для решения данного вопроса:\n",
    "data[data.budget==data.budget.max()]\n",
    "answers['1'] = '5. Pirates of the Caribbean: On Stranger Tides (tt1298650)'"
   ]
  },
  {
   "cell_type": "markdown",
   "metadata": {
    "colab_type": "text",
    "id": "K7L3nbRXVp-X"
   },
   "source": [
    "ВАРИАНТ 2"
   ]
  },
  {
   "cell_type": "code",
   "execution_count": 0,
   "metadata": {
    "colab": {},
    "colab_type": "code",
    "id": "OGaoQI7rVp-X"
   },
   "outputs": [],
   "source": [
    "# можно добавлять разные варианты решения"
   ]
  },
  {
   "cell_type": "markdown",
   "metadata": {
    "colab_type": "text",
    "id": "FNRbbI3vVp-c"
   },
   "source": [
    "# 2. Какой из фильмов самый длительный (в минутах)?"
   ]
  },
  {
   "cell_type": "code",
   "execution_count": 27,
   "metadata": {
    "colab": {},
    "colab_type": "code",
    "id": "vHAoEXNTVp-d"
   },
   "outputs": [],
   "source": [
    "# думаю логику работы с этим словарем вы уже поняли, \n",
    "# по этому не буду больше его дублировать\n",
    "data[data.runtime==data.runtime.max()]\n",
    "answers['2'] = '2. Gods and Generals (tt0279111)'"
   ]
  },
  {
   "cell_type": "markdown",
   "metadata": {
    "colab_type": "text",
    "id": "bapLlpW8Vp-k"
   },
   "source": [
    "# 3. Какой из фильмов самый короткий (в минутах)?\n",
    "\n",
    "\n",
    "\n"
   ]
  },
  {
   "cell_type": "code",
   "execution_count": 29,
   "metadata": {
    "colab": {},
    "colab_type": "code",
    "id": "YBxaSHuAVp-l"
   },
   "outputs": [],
   "source": [
    "data[data.runtime==data.runtime.min()]\n",
    "answers['3'] = '3. Winnie the Pooh (tt1449283)'"
   ]
  },
  {
   "cell_type": "markdown",
   "metadata": {
    "colab_type": "text",
    "id": "TfQbxbfNVp-p"
   },
   "source": [
    "# 4. Какова средняя длительность фильмов?\n"
   ]
  },
  {
   "cell_type": "code",
   "execution_count": 46,
   "metadata": {
    "colab": {},
    "colab_type": "code",
    "id": "5K6dKZYVVp-q"
   },
   "outputs": [],
   "source": [
    "round(data.runtime.mean())\n",
    "answers['4'] = '2. 110'"
   ]
  },
  {
   "cell_type": "markdown",
   "metadata": {
    "colab_type": "text",
    "id": "r5TvbnT_Vp-u"
   },
   "source": [
    "# 5. Каково медианное значение длительности фильмов? "
   ]
  },
  {
   "cell_type": "code",
   "execution_count": 47,
   "metadata": {
    "colab": {},
    "colab_type": "code",
    "id": "iBROplKnVp-v"
   },
   "outputs": [],
   "source": [
    "round(data.runtime.median())\n",
    "answers['5'] = '1. 107'"
   ]
  },
  {
   "cell_type": "markdown",
   "metadata": {
    "colab_type": "text",
    "id": "39P-deDSVp-y"
   },
   "source": [
    "# 6. Какой самый прибыльный фильм?\n",
    "#### Внимание! Здесь и далее под «прибылью» или «убытками» понимается разность между сборами и бюджетом фильма. (прибыль = сборы - бюджет) в нашем датасете это будет (profit = revenue - budget) "
   ]
  },
  {
   "cell_type": "code",
   "execution_count": 15,
   "metadata": {},
   "outputs": [],
   "source": [
    "data['profit'] = data.revenue-data.budget"
   ]
  },
  {
   "cell_type": "code",
   "execution_count": 48,
   "metadata": {},
   "outputs": [],
   "source": [
    "data[data.profit==data.profit.max()]\n",
    "answers['6'] = '5. Avatar (tt0499549)'"
   ]
  },
  {
   "cell_type": "markdown",
   "metadata": {
    "colab_type": "text",
    "id": "M99JmIX4Vp-2"
   },
   "source": [
    "# 7. Какой фильм самый убыточный? "
   ]
  },
  {
   "cell_type": "code",
   "execution_count": 49,
   "metadata": {
    "colab": {},
    "colab_type": "code",
    "id": "w-D2m4XPVp-3"
   },
   "outputs": [],
   "source": [
    "data[data.profit==data.profit.min()]\n",
    "answers['7'] = '5. The Lone Ranger (tt1210819)'"
   ]
  },
  {
   "cell_type": "markdown",
   "metadata": {
    "colab_type": "text",
    "id": "wEOM5ERVVp-6"
   },
   "source": [
    "# 8. У скольких фильмов из датасета объем сборов оказался выше бюджета?"
   ]
  },
  {
   "cell_type": "code",
   "execution_count": 53,
   "metadata": {
    "colab": {},
    "colab_type": "code",
    "id": "y00_7HD6Vp-7"
   },
   "outputs": [],
   "source": [
    "len(data[data.revenue>data.budget])\n",
    "answers['8'] = '1. 1478'"
   ]
  },
  {
   "cell_type": "markdown",
   "metadata": {
    "colab_type": "text",
    "id": "xhpspA9KVp_A"
   },
   "source": [
    "# 9. Какой фильм оказался самым кассовым в 2008 году?"
   ]
  },
  {
   "cell_type": "code",
   "execution_count": 58,
   "metadata": {
    "colab": {},
    "colab_type": "code",
    "id": "MoUyQr9RVp_B"
   },
   "outputs": [],
   "source": [
    "data2 = data.query('release_year == 2008')\n",
    "data2[data2.profit==data2.profit.max()]\n",
    "answers['9'] = '4. The Dark Knight (tt0468569)'"
   ]
  },
  {
   "cell_type": "markdown",
   "metadata": {
    "colab_type": "text",
    "id": "Zi4hDKidVp_F"
   },
   "source": [
    "# 10. Самый убыточный фильм за период с 2012 по 2014 г. (включительно)?\n"
   ]
  },
  {
   "cell_type": "code",
   "execution_count": 62,
   "metadata": {
    "colab": {},
    "colab_type": "code",
    "id": "XqyRmufJVp_F"
   },
   "outputs": [],
   "source": [
    "data3 = data.query('release_year >= 2012 & release_year <= 2014')\n",
    "data3[data3.profit==data3.profit.min()]\n",
    "answers['10'] = '5. The Lone Ranger (tt1210819)'"
   ]
  },
  {
   "cell_type": "markdown",
   "metadata": {
    "colab_type": "text",
    "id": "EA7Sa9dkVp_I"
   },
   "source": [
    "# 11. Какого жанра фильмов больше всего?"
   ]
  },
  {
   "cell_type": "code",
   "execution_count": 79,
   "metadata": {
    "colab": {},
    "colab_type": "code",
    "id": "zsJAwJ8QVp_J"
   },
   "outputs": [],
   "source": [
    "# эту задачу тоже можно решать разными подходами, попробуй реализовать разные варианты\n",
    "# если будешь добавлять функцию - выноси ее в предобработку что в начале\n",
    "genres = [len(data[data.genres.str.contains('Drama')]),\n",
    "len(data[data.genres.str.contains('Comedy')]),\n",
    "len(data[data.genres.str.contains('Thriller')]),\n",
    "len(data[data.genres.str.contains('Action')]),\n",
    "len(data[data.genres.str.contains('Adventure')])]\n",
    "genres\n",
    "answers['11'] = '3. Drama'"
   ]
  },
  {
   "cell_type": "markdown",
   "metadata": {
    "colab_type": "text",
    "id": "Ax6g2C8SVp_M"
   },
   "source": [
    "ВАРИАНТ 2"
   ]
  },
  {
   "cell_type": "code",
   "execution_count": 0,
   "metadata": {
    "colab": {},
    "colab_type": "code",
    "id": "otO3SbrSVp_N"
   },
   "outputs": [],
   "source": []
  },
  {
   "cell_type": "markdown",
   "metadata": {
    "colab_type": "text",
    "id": "T9_bPWpkVp_Q"
   },
   "source": [
    "# 12. Фильмы какого жанра чаще всего становятся прибыльными? "
   ]
  },
  {
   "cell_type": "code",
   "execution_count": 80,
   "metadata": {
    "colab": {},
    "colab_type": "code",
    "id": "zsJAwJ8QVp_J"
   },
   "outputs": [],
   "source": [
    "data4 = data.query('profit > 0')\n",
    "genres = [len(data4[data4.genres.str.contains('Drama')]),\n",
    "len(data4[data4.genres.str.contains('Comedy')]),\n",
    "len(data4[data4.genres.str.contains('Thriller')]),\n",
    "len(data4[data4.genres.str.contains('Action')]),\n",
    "len(data4[data4.genres.str.contains('Adventure')])]\n",
    "genres\n",
    "answers['12'] = '1. Drama'"
   ]
  },
  {
   "cell_type": "markdown",
   "metadata": {
    "colab_type": "text",
    "id": "0F23bgsDVp_U"
   },
   "source": [
    "# 13. У какого режиссера самые большие суммарные кассовые сбооры?"
   ]
  },
  {
   "cell_type": "code",
   "execution_count": 92,
   "metadata": {
    "colab": {},
    "colab_type": "code",
    "id": "K6Z3J8ygVp_X"
   },
   "outputs": [],
   "source": [
    "rich_directors = data.groupby(['director']).sum()\n",
    "rich_directors[rich_directors.profit==rich_directors.profit.max()]\n",
    "answers['13'] = '5. Peter Jackson'"
   ]
  },
  {
   "cell_type": "markdown",
   "metadata": {
    "colab_type": "text",
    "id": "PsYC9FgRVp_a"
   },
   "source": [
    "# 14. Какой режисер снял больше всего фильмов в стиле Action?"
   ]
  },
  {
   "cell_type": "code",
   "execution_count": 42,
   "metadata": {},
   "outputs": [
    {
     "data": {
      "text/plain": [
       "Robert Rodriguez      9\n",
       "Paul W.S. Anderson    7\n",
       "Michael Bay           7\n",
       "Antoine Fuqua         6\n",
       "Ridley Scott          6\n",
       "                     ..\n",
       "Eli Roth              1\n",
       "Vic Armstrong         1\n",
       "Richard Shepard       1\n",
       "Jimmy Hayward         1\n",
       "Jon Amiel             1\n",
       "Name: director, Length: 364, dtype: int64"
      ]
     },
     "execution_count": 42,
     "metadata": {},
     "output_type": "execute_result"
    }
   ],
   "source": [
    "data5 = data.copy()\n",
    "data5 = data5[data.genres.str.contains('Action')]\n",
    "data5.director = data5.director.str.split('|')\n",
    "data5 = data5.explode('director')\n",
    "data5.director.value_counts()\n",
    "answers['14'] = '3. Robert Rodriguez'"
   ]
  },
  {
   "cell_type": "markdown",
   "metadata": {
    "colab_type": "text",
    "id": "PQ0KciD7Vp_f"
   },
   "source": [
    "# 15. Фильмы с каким актером принесли самые высокие кассовые сборы в 2012 году? "
   ]
  },
  {
   "cell_type": "code",
   "execution_count": 23,
   "metadata": {
    "colab": {},
    "colab_type": "code",
    "id": "aga62oeKVp_g"
   },
   "outputs": [
    {
     "data": {
      "text/html": [
       "<div>\n",
       "<style scoped>\n",
       "    .dataframe tbody tr th:only-of-type {\n",
       "        vertical-align: middle;\n",
       "    }\n",
       "\n",
       "    .dataframe tbody tr th {\n",
       "        vertical-align: top;\n",
       "    }\n",
       "\n",
       "    .dataframe thead th {\n",
       "        text-align: right;\n",
       "    }\n",
       "</style>\n",
       "<table border=\"1\" class=\"dataframe\">\n",
       "  <thead>\n",
       "    <tr style=\"text-align: right;\">\n",
       "      <th></th>\n",
       "      <th>imdb_id</th>\n",
       "      <th>budget</th>\n",
       "      <th>revenue</th>\n",
       "      <th>original_title</th>\n",
       "      <th>cast</th>\n",
       "      <th>director</th>\n",
       "      <th>tagline</th>\n",
       "      <th>overview</th>\n",
       "      <th>runtime</th>\n",
       "      <th>genres</th>\n",
       "      <th>production_companies</th>\n",
       "      <th>release_date</th>\n",
       "      <th>vote_average</th>\n",
       "      <th>release_year</th>\n",
       "      <th>profit</th>\n",
       "    </tr>\n",
       "  </thead>\n",
       "  <tbody>\n",
       "    <tr>\n",
       "      <th>970</th>\n",
       "      <td>tt0848228</td>\n",
       "      <td>220000000</td>\n",
       "      <td>1519557910</td>\n",
       "      <td>The Avengers</td>\n",
       "      <td>Robert Downey Jr.|Chris Evans|Mark Ruffalo|Chr...</td>\n",
       "      <td>Joss Whedon</td>\n",
       "      <td>Some assembly required.</td>\n",
       "      <td>When an unexpected enemy emerges and threatens...</td>\n",
       "      <td>143</td>\n",
       "      <td>Science Fiction|Action|Adventure</td>\n",
       "      <td>Marvel Studios</td>\n",
       "      <td>4/25/2012</td>\n",
       "      <td>7.3</td>\n",
       "      <td>2012</td>\n",
       "      <td>1299557910</td>\n",
       "    </tr>\n",
       "  </tbody>\n",
       "</table>\n",
       "</div>"
      ],
      "text/plain": [
       "       imdb_id     budget     revenue original_title  \\\n",
       "970  tt0848228  220000000  1519557910   The Avengers   \n",
       "\n",
       "                                                  cast     director  \\\n",
       "970  Robert Downey Jr.|Chris Evans|Mark Ruffalo|Chr...  Joss Whedon   \n",
       "\n",
       "                     tagline  \\\n",
       "970  Some assembly required.   \n",
       "\n",
       "                                              overview  runtime  \\\n",
       "970  When an unexpected enemy emerges and threatens...      143   \n",
       "\n",
       "                               genres production_companies release_date  \\\n",
       "970  Science Fiction|Action|Adventure       Marvel Studios    4/25/2012   \n",
       "\n",
       "     vote_average  release_year      profit  \n",
       "970           7.3          2012  1299557910  "
      ]
     },
     "execution_count": 23,
     "metadata": {},
     "output_type": "execute_result"
    }
   ],
   "source": [
    "data6 = data.query('release_year==2012')\n",
    "data6[data6.profit==data6.profit.max()]\n",
    "answers['15'] = '3. Chris Hemsworth'"
   ]
  },
  {
   "cell_type": "markdown",
   "metadata": {
    "colab_type": "text",
    "id": "mWHyyL7QVp_j"
   },
   "source": [
    "# 16. Какой актер снялся в большем количестве высокобюджетных фильмов?"
   ]
  },
  {
   "cell_type": "code",
   "execution_count": 43,
   "metadata": {
    "colab": {},
    "colab_type": "code",
    "id": "qQtmHKTFVp_k"
   },
   "outputs": [
    {
     "data": {
      "text/plain": [
       "Matt Damon           18\n",
       "Adam Sandler         17\n",
       "Angelina Jolie       16\n",
       "Tom Cruise           15\n",
       "Samuel L. Jackson    15\n",
       "                     ..\n",
       "Linda Cardellini      1\n",
       "Joseph Fiennes        1\n",
       "Ed Asner              1\n",
       "Shuler Hensley        1\n",
       "Collin Chou           1\n",
       "Name: cast, Length: 1505, dtype: int64"
      ]
     },
     "execution_count": 43,
     "metadata": {},
     "output_type": "execute_result"
    }
   ],
   "source": [
    "data6_1 = data.copy()\n",
    "data6_1 = data6_1[data.budget > data.budget.mean()]\n",
    "data6_1.cast = data6_1.cast.str.split('|')\n",
    "data6_1 = data6_1.explode('cast')\n",
    "data6_1.cast.value_counts()\n",
    "answers['16'] = '3. Matt Damon'"
   ]
  },
  {
   "cell_type": "markdown",
   "metadata": {
    "colab_type": "text",
    "id": "NIh6AaW5Vp_n"
   },
   "source": [
    "# 17. В фильмах какого жанра больше всего снимался Nicolas Cage? "
   ]
  },
  {
   "cell_type": "code",
   "execution_count": 46,
   "metadata": {
    "colab": {},
    "colab_type": "code",
    "id": "H74SJDIBVp_n"
   },
   "outputs": [
    {
     "data": {
      "text/plain": [
       "Action             17\n",
       "Thriller           15\n",
       "Drama              12\n",
       "Crime              10\n",
       "Fantasy             8\n",
       "Adventure           7\n",
       "Comedy              6\n",
       "Science Fiction     4\n",
       "Mystery             3\n",
       "Family              3\n",
       "Animation           3\n",
       "History             2\n",
       "Romance             1\n",
       "Horror              1\n",
       "War                 1\n",
       "Name: genres, dtype: int64"
      ]
     },
     "execution_count": 46,
     "metadata": {},
     "output_type": "execute_result"
    }
   ],
   "source": [
    "data7 = data.copy()\n",
    "data7 = data7[data.cast.str.contains('Nicolas Cage')]\n",
    "data7.genres = data7.genres.str.split('|')\n",
    "data7 = data7.explode('genres')\n",
    "data7.genres.value_counts()\n",
    "answers['17'] = '2. Action'"
   ]
  },
  {
   "cell_type": "markdown",
   "metadata": {
    "colab_type": "text",
    "id": "RqOmPRfWVp_q"
   },
   "source": [
    "# 18. Самый убыточный фильм от Paramount Pictures"
   ]
  },
  {
   "cell_type": "code",
   "execution_count": 0,
   "metadata": {
    "colab": {},
    "colab_type": "code",
    "id": "9E_B0Y96Vp_r"
   },
   "outputs": [],
   "source": [
    "data_ck = data.copy()\n",
    "data_ck = data_ck[data.production_companies.str.contains('Paramount Pictures')]\n",
    "data_ck['profit'] = data_ck.revenue - data_ck.budget\n",
    "data_ck[data_ck['profit'] == data_ck.profit.min()]\n",
    "answers['18'] = '1. K-19: The Widowmaker (tt0267626)'"
   ]
  },
  {
   "cell_type": "markdown",
   "metadata": {
    "colab_type": "text",
    "id": "vS8Ur6ddVp_u"
   },
   "source": [
    "# 19. Какой год стал самым успешным по суммарным кассовым сборам?"
   ]
  },
  {
   "cell_type": "code",
   "execution_count": 0,
   "metadata": {
    "colab": {},
    "colab_type": "code",
    "id": "Dnbt4GdIVp_v"
   },
   "outputs": [],
   "source": [
    "df = data.groupby(['release_year']).sum()\n",
    "df[df['revenue'] == df.revenue.max()]\n",
    "answers['19'] = '5. 2015'"
   ]
  },
  {
   "cell_type": "markdown",
   "metadata": {
    "colab_type": "text",
    "id": "JAzJh4QAVp_z"
   },
   "source": [
    "# 20. Какой самый прибыльный год для студии Warner Bros?"
   ]
  },
  {
   "cell_type": "code",
   "execution_count": 0,
   "metadata": {
    "colab": {},
    "colab_type": "code",
    "id": "wgVu02DEVp_0"
   },
   "outputs": [],
   "source": [
    "data_ck = data.copy()\n",
    "data_ck = data_ck[data.production_companies.str.contains('Warner Bros')]\n",
    "data_ck['profit'] = data_ck.revenue - data_ck.budget\n",
    "data_ck = data_ck.groupby(['release_year']).sum()\n",
    "data_ck[data_ck['revenue'] == data_ck.revenue.max()]\n",
    "answers['20'] = '1. 2014'"
   ]
  },
  {
   "cell_type": "markdown",
   "metadata": {
    "colab_type": "text",
    "id": "8Im1S2HRVp_4"
   },
   "source": [
    "# 21. В каком месяце за все годы суммарно вышло больше всего фильмов?"
   ]
  },
  {
   "cell_type": "code",
   "execution_count": 29,
   "metadata": {
    "colab": {},
    "colab_type": "code",
    "id": "lev6TH7gVp_4"
   },
   "outputs": [
    {
     "data": {
      "text/plain": [
       "(110, 135, 156, 149, 140, 147, 142, 161, 227, 186, 146, 190)"
      ]
     },
     "execution_count": 29,
     "metadata": {},
     "output_type": "execute_result"
    }
   ],
   "source": [
    "len(data[data.release_date.str.match(\"1/\", na=False)]),len(data[data.release_date.str.match(\"2\", na=False)]),len(data[data.release_date.str.match(\"3\", na=False)]),len(data[data.release_date.str.match(\"4\", na=False)]),len(data[data.release_date.str.match(\"5\", na=False)]),len(data[data.release_date.str.match(\"6\", na=False)]),len(data[data.release_date.str.match(\"7\", na=False)]),len(data[data.release_date.str.match(\"8\", na=False)]),len(data[data.release_date.str.match(\"9\", na=False)]),len(data[data.release_date.str.match(\"10\", na=False)]),len(data[data.release_date.str.match(\"11\", na=False)]),len(data[data.release_date.str.match(\"12\", na=False)])\n",
    "answers['21'] = '4. Сентябрь'"
   ]
  },
  {
   "cell_type": "markdown",
   "metadata": {
    "colab_type": "text",
    "id": "uAJsZ_NeVp_7"
   },
   "source": [
    "# 22. Сколько суммарно вышло фильмов летом? (за июнь, июль, август)"
   ]
  },
  {
   "cell_type": "code",
   "execution_count": 28,
   "metadata": {
    "colab": {},
    "colab_type": "code",
    "id": "Aa-hEREoVp_8"
   },
   "outputs": [
    {
     "data": {
      "text/plain": [
       "450"
      ]
     },
     "execution_count": 28,
     "metadata": {},
     "output_type": "execute_result"
    }
   ],
   "source": [
    "147+142+161\n",
    "answers['22'] = '2. 450'"
   ]
  },
  {
   "cell_type": "markdown",
   "metadata": {
    "colab_type": "text",
    "id": "G94ppOY1VqAA"
   },
   "source": [
    "# 23. Для какого режиссера зима – самое продуктивное время года? "
   ]
  },
  {
   "cell_type": "code",
   "execution_count": 21,
   "metadata": {
    "colab": {},
    "colab_type": "code",
    "id": "RhNTsamuVqAB"
   },
   "outputs": [
    {
     "data": {
      "text/plain": [
       "Peter Jackson        8\n",
       "Clint Eastwood       7\n",
       "Steven Soderbergh    6\n",
       "Ron Howard           4\n",
       "Martin Scorsese      4\n",
       "                    ..\n",
       "Malcolm D. Lee       1\n",
       "Rusty Cundieff       1\n",
       "Kevin Allen          1\n",
       "Frederik Du Chau     1\n",
       "Richard Linklater    1\n",
       "Name: director, Length: 371, dtype: int64"
      ]
     },
     "execution_count": 21,
     "metadata": {},
     "output_type": "execute_result"
    }
   ],
   "source": [
    "df1 = data[data.release_date.str.match(\"11\")]\n",
    "df2 = data[data.release_date.str.match(\"1/\")]\n",
    "df3 = data[data.release_date.str.match(\"12\")]\n",
    "tf = pd.concat([df1, df2, df3])\n",
    "tf.director = tf.director.str.split('|')\n",
    "tf = tf.explode('director')\n",
    "tf.director.value_counts()\n",
    "answers['23'] = '5. Peter Jackson'"
   ]
  },
  {
   "cell_type": "markdown",
   "metadata": {
    "colab_type": "text",
    "id": "RBo0JVjVVqAF"
   },
   "source": [
    "# 24. Какая студия дает самые длинные названия своим фильмам по количеству символов?"
   ]
  },
  {
   "cell_type": "code",
   "execution_count": 5,
   "metadata": {
    "colab": {},
    "colab_type": "code",
    "id": "QRGS8L0iVqAG"
   },
   "outputs": [],
   "source": [
    "def big(row):\n",
    "    return len(row['original_title'])"
   ]
  },
  {
   "cell_type": "code",
   "execution_count": 8,
   "metadata": {},
   "outputs": [
    {
     "name": "stdout",
     "output_type": "stream",
     "text": [
      "production_companies\n",
      "Warner Bros.                              2616\n",
      "Universal Pictures                        2546\n",
      "Paramount Pictures                        2078\n",
      "Twentieth Century Fox Film Corporation    1799\n",
      "Columbia Pictures                         1722\n",
      "Name: big, dtype: int64\n"
     ]
    },
    {
     "ename": "NameError",
     "evalue": "name 'answers' is not defined",
     "output_type": "error",
     "traceback": [
      "\u001b[1;31m---------------------------------------------------------------------------\u001b[0m",
      "\u001b[1;31mNameError\u001b[0m                                 Traceback (most recent call last)",
      "\u001b[1;32m<ipython-input-8-8541338191c2>\u001b[0m in \u001b[0;36m<module>\u001b[1;34m\u001b[0m\n\u001b[0;32m      5\u001b[0m \u001b[0mdatag\u001b[0m \u001b[1;33m=\u001b[0m \u001b[0mdata\u001b[0m\u001b[1;33m.\u001b[0m\u001b[0mgroupby\u001b[0m\u001b[1;33m(\u001b[0m\u001b[1;33m[\u001b[0m\u001b[1;34m'production_companies'\u001b[0m\u001b[1;33m]\u001b[0m\u001b[1;33m)\u001b[0m\u001b[1;33m[\u001b[0m\u001b[1;34m'big'\u001b[0m\u001b[1;33m]\u001b[0m\u001b[1;33m.\u001b[0m\u001b[0msum\u001b[0m\u001b[1;33m(\u001b[0m\u001b[1;33m)\u001b[0m\u001b[1;33m.\u001b[0m\u001b[0msort_values\u001b[0m\u001b[1;33m(\u001b[0m\u001b[0mascending\u001b[0m\u001b[1;33m=\u001b[0m\u001b[1;32mFalse\u001b[0m\u001b[1;33m)\u001b[0m\u001b[1;33m\u001b[0m\u001b[1;33m\u001b[0m\u001b[0m\n\u001b[0;32m      6\u001b[0m \u001b[0mprint\u001b[0m\u001b[1;33m(\u001b[0m\u001b[0mdatag\u001b[0m\u001b[1;33m.\u001b[0m\u001b[0mhead\u001b[0m\u001b[1;33m(\u001b[0m\u001b[1;36m5\u001b[0m\u001b[1;33m)\u001b[0m\u001b[1;33m)\u001b[0m\u001b[1;33m\u001b[0m\u001b[1;33m\u001b[0m\u001b[0m\n\u001b[1;32m----> 7\u001b[1;33m \u001b[0manswers\u001b[0m\u001b[1;33m[\u001b[0m\u001b[1;34m'24'\u001b[0m\u001b[1;33m]\u001b[0m \u001b[1;33m=\u001b[0m \u001b[1;34m\"1. Universal Pictures (Universal)\"\u001b[0m\u001b[1;33m\u001b[0m\u001b[1;33m\u001b[0m\u001b[0m\n\u001b[0m",
      "\u001b[1;31mNameError\u001b[0m: name 'answers' is not defined"
     ]
    }
   ],
   "source": [
    "data['big'] = data.apply(big, axis = 1)\n",
    "data.production_companies = data.production_companies.str.split('|')\n",
    "data = data.explode('production_companies')\n",
    "data.groupby(['production_companies']).groups\n",
    "datag = data.groupby(['production_companies'])['big'].sum().sort_values(ascending=False)\n",
    "print(datag.head(5))\n",
    "answers['24'] = \"1. Universal Pictures (Universal)\""
   ]
  },
  {
   "cell_type": "markdown",
   "metadata": {
    "colab_type": "text",
    "id": "9G0hbvR7VqAK"
   },
   "source": [
    "# 25. Описание фильмов какой студии в среднем самые длинные по количеству слов?"
   ]
  },
  {
   "cell_type": "code",
   "execution_count": null,
   "metadata": {
    "colab": {},
    "colab_type": "code",
    "id": "Ge2GsLNxVqAK"
   },
   "outputs": [],
   "source": []
  },
  {
   "cell_type": "markdown",
   "metadata": {
    "colab_type": "text",
    "id": "FJ1AFt90VqAP"
   },
   "source": [
    "# 26. Какие фильмы входят в 1 процент лучших по рейтингу? \n",
    "по vote_average"
   ]
  },
  {
   "cell_type": "code",
   "execution_count": 9,
   "metadata": {
    "colab": {},
    "colab_type": "code",
    "id": "8qmJVq4CVqAQ"
   },
   "outputs": [
    {
     "name": "stdout",
     "output_type": "stream",
     "text": [
      "18.89\n"
     ]
    },
    {
     "ename": "NameError",
     "evalue": "name 'answers' is not defined",
     "output_type": "error",
     "traceback": [
      "\u001b[1;31m---------------------------------------------------------------------------\u001b[0m",
      "\u001b[1;31mNameError\u001b[0m                                 Traceback (most recent call last)",
      "\u001b[1;32m<ipython-input-9-f65b2ae7dd98>\u001b[0m in \u001b[0;36m<module>\u001b[1;34m\u001b[0m\n\u001b[0;32m      2\u001b[0m \u001b[0mprint\u001b[0m\u001b[1;33m(\u001b[0m\u001b[1;36m1889\u001b[0m\u001b[1;33m*\u001b[0m\u001b[1;36m0.01\u001b[0m\u001b[1;33m)\u001b[0m\u001b[1;33m\u001b[0m\u001b[1;33m\u001b[0m\u001b[0m\n\u001b[0;32m      3\u001b[0m \u001b[0mdata1\u001b[0m\u001b[1;33m.\u001b[0m\u001b[0mhead\u001b[0m\u001b[1;33m(\u001b[0m\u001b[1;36m18\u001b[0m\u001b[1;33m)\u001b[0m\u001b[1;33m\u001b[0m\u001b[1;33m\u001b[0m\u001b[0m\n\u001b[1;32m----> 4\u001b[1;33m \u001b[0manswers\u001b[0m\u001b[1;33m[\u001b[0m\u001b[1;34m'26'\u001b[0m\u001b[1;33m]\u001b[0m \u001b[1;33m=\u001b[0m \u001b[1;34m\"1. Inside Out, The Dark Knight, 12 Years a Slave\"\u001b[0m\u001b[1;33m\u001b[0m\u001b[1;33m\u001b[0m\u001b[0m\n\u001b[0m",
      "\u001b[1;31mNameError\u001b[0m: name 'answers' is not defined"
     ]
    }
   ],
   "source": [
    "data1 = data.sort_values(by='vote_average', ascending=False)\n",
    "print(1889*0.01)\n",
    "data1.head(18)\n",
    "answers['26'] = \"1. Inside Out, The Dark Knight, 12 Years a Slave\""
   ]
  },
  {
   "cell_type": "markdown",
   "metadata": {
    "colab_type": "text",
    "id": "MdXsUXbCVqAV"
   },
   "source": [
    "# 27. Какие актеры чаще всего снимаются в одном фильме вместе?\n"
   ]
  },
  {
   "cell_type": "markdown",
   "metadata": {
    "colab_type": "text",
    "id": "4ymnxEVoVqAW"
   },
   "source": [
    "ВАРИАНТ 2"
   ]
  },
  {
   "cell_type": "markdown",
   "metadata": {
    "colab_type": "text",
    "id": "U0nONFnGVqAX"
   },
   "source": [
    "# Submission"
   ]
  },
  {
   "cell_type": "code",
   "execution_count": 24,
   "metadata": {
    "colab": {},
    "colab_type": "code",
    "id": "IfcaRO9-VqAX",
    "outputId": "0f132912-32bb-4196-c98c-abfbc4ad5a5f"
   },
   "outputs": [
    {
     "ename": "NameError",
     "evalue": "name 'answers' is not defined",
     "output_type": "error",
     "traceback": [
      "\u001b[1;31m---------------------------------------------------------------------------\u001b[0m",
      "\u001b[1;31mNameError\u001b[0m                                 Traceback (most recent call last)",
      "\u001b[1;32m<ipython-input-24-da9b661f2617>\u001b[0m in \u001b[0;36m<module>\u001b[1;34m\u001b[0m\n\u001b[0;32m      1\u001b[0m \u001b[1;31m# в конце можно посмотреть свои ответы к каждому вопросу\u001b[0m\u001b[1;33m\u001b[0m\u001b[1;33m\u001b[0m\u001b[1;33m\u001b[0m\u001b[0m\n\u001b[1;32m----> 2\u001b[1;33m \u001b[0manswers\u001b[0m\u001b[1;33m\u001b[0m\u001b[1;33m\u001b[0m\u001b[0m\n\u001b[0m",
      "\u001b[1;31mNameError\u001b[0m: name 'answers' is not defined"
     ]
    }
   ],
   "source": [
    "# в конце можно посмотреть свои ответы к каждому вопросу\n",
    "answers"
   ]
  },
  {
   "cell_type": "code",
   "execution_count": 0,
   "metadata": {
    "colab": {},
    "colab_type": "code",
    "id": "SiRmHPl8VqAd"
   },
   "outputs": [],
   "source": [
    "# и убедиться что ни чего не пропустил)\n",
    "len(answers)"
   ]
  },
  {
   "cell_type": "code",
   "execution_count": 0,
   "metadata": {
    "colab": {},
    "colab_type": "code",
    "id": "uCfuTkRbVqAg"
   },
   "outputs": [],
   "source": []
  },
  {
   "cell_type": "code",
   "execution_count": 0,
   "metadata": {
    "colab": {},
    "colab_type": "code",
    "id": "Vwx3NrkSVqAl"
   },
   "outputs": [],
   "source": []
  }
 ],
 "metadata": {
  "colab": {
   "name": "Copy of [SF-DST] Movies IMBD v4.1 TEMPLATE.ipynb",
   "provenance": []
  },
  "kernelspec": {
   "display_name": "Python 3",
   "language": "python",
   "name": "python3"
  },
  "language_info": {
   "codemirror_mode": {
    "name": "ipython",
    "version": 3
   },
   "file_extension": ".py",
   "mimetype": "text/x-python",
   "name": "python",
   "nbconvert_exporter": "python",
   "pygments_lexer": "ipython3",
   "version": "3.7.6"
  }
 },
 "nbformat": 4,
 "nbformat_minor": 1
}
